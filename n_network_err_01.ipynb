{
 "cells": [
  {
   "cell_type": "code",
   "execution_count": 8,
   "metadata": {},
   "outputs": [
    {
     "name": "stdout",
     "output_type": "stream",
     "text": [
      "0.022499999999999975\n",
      "0.004224999999999993\n",
      "0.05522499999999994\n"
     ]
    }
   ],
   "source": [
    "weight = 0.1\n",
    "lr = 0.01\n",
    "def n_network(input,weight):\n",
    "    prediction = input*weight\n",
    "    return prediction\n",
    "\n",
    "toes_number = [8.5,9.5,10,9]\n",
    "win_lose_bin = [1,1,1,0]\n",
    "\n",
    "input=toes_number[0]\n",
    "true = win_lose_bin[0]\n",
    "\n",
    "pred = n_network(input,weight)\n",
    "err = (pred - true)**2\n",
    "print(err)\n",
    "\n",
    "lr=0.01\n",
    "p_up=n_network(input,weight+lr)\n",
    "e_up=(p_up-true)**2\n",
    "print(e_up)\n",
    "p_up=n_network(input,weight-lr)\n",
    "e_up=(p_up-true)**2\n",
    "print(e_up)"
   ]
  },
  {
   "cell_type": "code",
   "execution_count": 4,
   "metadata": {},
   "outputs": [
    {
     "name": "stdout",
     "output_type": "stream",
     "text": [
      "0.30250000000000005\n"
     ]
    }
   ],
   "source": [
    "err = (pred-goal_pred)**2\n",
    "print(err)\n"
   ]
  },
  {
   "cell_type": "code",
   "execution_count": null,
   "metadata": {
    "collapsed": true
   },
   "outputs": [],
   "source": []
  }
 ],
 "metadata": {
  "kernelspec": {
   "display_name": "Python 3",
   "language": "python",
   "name": "python3"
  },
  "language_info": {
   "codemirror_mode": {
    "name": "ipython",
    "version": 3
   },
   "file_extension": ".py",
   "mimetype": "text/x-python",
   "name": "python",
   "nbconvert_exporter": "python",
   "pygments_lexer": "ipython3",
   "version": "3.6.1"
  }
 },
 "nbformat": 4,
 "nbformat_minor": 2
}
