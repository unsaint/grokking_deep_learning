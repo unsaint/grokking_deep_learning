weight = 0.1

lr = 0.01

def n_network(input,weight):

    prediction = input*weight

    return prediction

​

toes_number = [8.5,9.5,10,9]

win_lose_bin = [1,1,1,0]

​

input=toes_number[0]

true = win_lose_bin[0]

​

pred = n_network(input,weight)

err = (pred - true)**2

print(err)

​

lr=0.01

p_up=n_network(input,weight+lr)

e_up=(p_up-true)**2

print(e_up)

p_up=n_network(input,weight-lr)

e_up=(p_up-true)**2

print(e_up)

0.022499999999999975
0.004224999999999993
0.05522499999999994
